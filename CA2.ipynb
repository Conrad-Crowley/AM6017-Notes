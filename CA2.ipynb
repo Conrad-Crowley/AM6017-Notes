{
 "cells": [
  {
   "cell_type": "code",
   "execution_count": null,
   "metadata": {},
   "outputs": [],
   "source": [
    "# execute this cell before you start\n",
    "\n",
    "import tensorflow as tf\n",
    "from tensorflow.keras import layers\n",
    "import tensorflow.keras as keras\n",
    "\n",
    "# Helper libraries\n",
    "import numpy as np\n",
    "import matplotlib.pyplot as plt\n",
    "\n",
    "print(tf.__version__)\n",
    "print(tf.keras.__version__)\n"
   ]
  },
  {
   "cell_type": "markdown",
   "metadata": {},
   "source": [
    "#  CA2\n",
    "\n",
    "to submit the assignment, please do the following:\n",
    "\n",
    "- make sure that the notebook runs through and produces all desired output after `Kernel -> Restart & Run all`\n",
    "- running through the whole notebook must not take no more than 60 minutes on a standard computer, similar to our lab-computers, without GPU and 8GB of RAM\n",
    "- do `Cell -> All output -> Clear` to clear all your output\n",
    "- save the notebook (CA2.ipynb)\n",
    "- upload the file `CA2.ipynb` to canvas.\n",
    "- note that Google Colab ipynb files do not work with the nbgrader system I use to grade assignments and are therefore not allowed. \n"
   ]
  },
  {
   "cell_type": "markdown",
   "metadata": {
    "deletable": false,
    "editable": false,
    "nbgrader": {
     "cell_type": "markdown",
     "checksum": "5ce7b54bf6cce3d85adffb9aec0e1114",
     "grade": false,
     "grade_id": "cell-19228bd2cd1d4340",
     "locked": true,
     "points": 10,
     "schema_version": 3,
     "solution": false,
     "task": true
    }
   },
   "source": [
    "# Q1 The CIFAR-10 dataset.\n",
    "\n",
    "(10 marks)\n",
    "\n",
    "Consider the data in  [`keras.datasets.cifar10`](https://www.tensorflow.org/datasets/catalog/cifar10) and train a network which reliably categorizes the data. \n",
    "Try to understand tradeoffs:\n",
    "\n",
    "- What increases computing time?\n",
    "- What increases accuracy?\n",
    "\n",
    "This dataset has its own [Wikipedia page](https://en.wikipedia.org/wiki/CIFAR-10), and is often used as benchmark for new proposed methods. \n",
    "You can take the cat/dog example from the lecture as a starting point, but you can also find plenty of inspiration in the Internet.  As before, it is not forbidden to get such inspiration, but please stay in the framework of what is covered in the lecture and clearly cite from where you take what. \n",
    "\n",
    "\n",
    "To get you started, here some code to show with which you can browse the data:"
   ]
  },
  {
   "cell_type": "code",
   "execution_count": null,
   "metadata": {},
   "outputs": [],
   "source": [
    "labels = ['airplane', 'automobile', 'bird', 'cat', 'deer', 'dog', 'frog', 'horse', 'ship', 'truck']\n",
    "\n",
    "(train_data,train_labels),(test_data,test_labels) = keras.datasets.cifar10.load_data()\n",
    "\n",
    "\n",
    "from ipywidgets import interact\n",
    "\n",
    "@interact(k=(0, len(train_data)-1))\n",
    "def myplot(k):\n",
    "    fig, ax = plt.subplots(figsize=(1, 1))\n",
    "    ax.set_title(labels[train_labels[k][0]])\n",
    "    ax.imshow(train_data[k])\n"
   ]
  },
  {
   "cell_type": "markdown",
   "metadata": {
    "deletable": false,
    "editable": false,
    "nbgrader": {
     "cell_type": "markdown",
     "checksum": "9286de5d79ecd4663f259d09234900f9",
     "grade": false,
     "grade_id": "cell-1b11668dcdcf2803",
     "locked": true,
     "points": 10,
     "schema_version": 3,
     "solution": false,
     "task": true
    }
   },
   "source": [
    "# Q2 Predicting the Weather with RNNs.\n",
    "\n",
    "(10 marks)\n",
    "\n",
    "We would like to predict the weather using RNNs.  Have a look at the following [tutorial notebook](https://www.tensorflow.org/tutorials/structured_data/time_series)\n",
    "which explains how to work with the data for the German region of Jena.  (Right-click and \"Save Link As\". You might also need to install pandas and seaborn using `pip install ...`). \n",
    "\n",
    "Focus on the prediciton part of the tutorial.  Try to train the model to predict the weather for two days in advance.  What are the parameters which influence the prediction accuracy.  For each cell that you add, start it with a line `# CA` (both for text and code cells).  Always explain what you are trying to achieve. \n",
    "\n",
    "Try to find similar weather data for Cork and train a model which is able to predict the weather for the two days after the submission deadline."
   ]
  },
  {
   "cell_type": "code",
   "execution_count": null,
   "metadata": {},
   "outputs": [],
   "source": []
  }
 ],
 "metadata": {
  "kernelspec": {
   "display_name": "tfvenv",
   "language": "python",
   "name": "tfvenv"
  },
  "language_info": {
   "codemirror_mode": {
    "name": "ipython",
    "version": 3
   },
   "file_extension": ".py",
   "mimetype": "text/x-python",
   "name": "python",
   "nbconvert_exporter": "python",
   "pygments_lexer": "ipython3",
   "version": "3.10.2"
  }
 },
 "nbformat": 4,
 "nbformat_minor": 2
}
