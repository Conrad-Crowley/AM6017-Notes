{
 "cells": [
  {
   "cell_type": "code",
   "execution_count": 1,
   "id": "sought-electricity",
   "metadata": {},
   "outputs": [
    {
     "name": "stderr",
     "output_type": "stream",
     "text": [
      "2022-03-11 13:22:25.813338: W tensorflow/stream_executor/platform/default/dso_loader.cc:64] Could not load dynamic library 'libcudart.so.11.0'; dlerror: libcudart.so.11.0: cannot open shared object file: No such file or directory; LD_LIBRARY_PATH: /home/amann/local/lib\n",
      "2022-03-11 13:22:25.813393: I tensorflow/stream_executor/cuda/cudart_stub.cc:29] Ignore above cudart dlerror if you do not have a GPU set up on your machine.\n"
     ]
    },
    {
     "name": "stdout",
     "output_type": "stream",
     "text": [
      "2.8.0\n",
      "2.8.0\n"
     ]
    }
   ],
   "source": [
    "import tensorflow as tf\n",
    "from tensorflow.keras import layers\n",
    "\n",
    "# Helper libraries\n",
    "import numpy as np\n",
    "import matplotlib.pyplot as plt\n",
    "from tensorflow import keras\n",
    "\n",
    "print(tf.__version__)\n",
    "print(tf.keras.__version__)\n"
   ]
  },
  {
   "cell_type": "markdown",
   "id": "differential-amsterdam",
   "metadata": {
    "deletable": false,
    "editable": false,
    "nbgrader": {
     "cell_type": "markdown",
     "checksum": "720f8955a881451926d3a1bb708102d2",
     "grade": false,
     "grade_id": "cell-38cd8b4b15e18253",
     "locked": true,
     "schema_version": 3,
     "solution": false,
     "task": false
    }
   },
   "source": [
    "# Practical Examination AM4067 / AM6016\n",
    "\n",
    "Due 23 April 2021 at 16:00\n",
    "\n",
    "Full marks for three out of four questions\n",
    "\n",
    "- It is allowed to use the Internet to access **pre-existing information**, which is available publically. \n",
    "- If you use such pre-existing information, you need to clearly cite your source.\n",
    "- It is not allowed to communicate with anybody during the exam. \n",
    "- You need to use jupyter to solve the exam.  \n",
    "\n"
   ]
  },
  {
   "cell_type": "markdown",
   "id": "perceived-exercise",
   "metadata": {
    "deletable": false,
    "editable": false,
    "nbgrader": {
     "cell_type": "markdown",
     "checksum": "b0d1d8611e3126ab2157aeac167467bc",
     "grade": false,
     "grade_id": "cell-570afc319c92d996",
     "locked": true,
     "schema_version": 3,
     "solution": false,
     "task": false
    }
   },
   "source": [
    "# Q1 Dropout Layer\n",
    "\n",
    "\n",
    "\n",
    "a) Explain the concept of the *Dropout Layer* in your own words.  Address the following points in your answer:\n",
    "\n",
    "1. What problem is addressed by using dropout layers?\n",
    "1. How do they work?\n",
    "1. Why do they work?\n",
    "1. What factors influence how well they work?\n",
    "1. What is the effect of the dropout layer at the evaluation stage and why?\n",
    "\n",
    "Provide links to all sources used in your answer. Do not use more than 500 words. (5 points)"
   ]
  },
  {
   "cell_type": "markdown",
   "id": "essential-burst",
   "metadata": {
    "deletable": false,
    "nbgrader": {
     "cell_type": "markdown",
     "checksum": "ee6deae372df30c6039f1874a71986ed",
     "grade": true,
     "grade_id": "cell-c9134b3ceafdd684",
     "locked": false,
     "points": 5,
     "schema_version": 3,
     "solution": true,
     "task": false
    }
   },
   "source": [
    "YOUR ANSWER HERE"
   ]
  },
  {
   "cell_type": "markdown",
   "id": "casual-barrier",
   "metadata": {
    "deletable": false,
    "editable": false,
    "nbgrader": {
     "cell_type": "markdown",
     "checksum": "c94abf27a22f0de579d8a9d2259eeaf7",
     "grade": false,
     "grade_id": "cell-13dcbe81ce7da3ab",
     "locked": true,
     "schema_version": 3,
     "solution": false,
     "task": false
    }
   },
   "source": [
    "b) Provide, working code which demonstrates the benefit of a dropout layer as compared to the sitation without it.  Base your example on the MNIST dataset. Do not use more than 100 lines of code. (5 points) "
   ]
  },
  {
   "cell_type": "code",
   "execution_count": null,
   "id": "individual-beast",
   "metadata": {
    "deletable": false,
    "nbgrader": {
     "cell_type": "code",
     "checksum": "8af993d7bc868dbc306a0b10623416d3",
     "grade": true,
     "grade_id": "cell-68769a03e671bb45",
     "locked": false,
     "points": 5,
     "schema_version": 3,
     "solution": true,
     "task": false
    }
   },
   "outputs": [],
   "source": [
    "# YOUR CODE HERE\n",
    "raise NotImplementedError()"
   ]
  },
  {
   "cell_type": "markdown",
   "id": "alternate-coach",
   "metadata": {},
   "source": [
    "c) Contrast the concept of the dropout layer with the concept of *data augmentation*.  Consider the following points:\n",
    "- In which respect do they address a common problem?\n",
    "- Explain the advantages and disadvantages of both concepts relative to each other. \n",
    "\n",
    "Do not use more than 400 words (4 points).\n"
   ]
  },
  {
   "cell_type": "markdown",
   "id": "rubber-discipline",
   "metadata": {
    "deletable": false,
    "nbgrader": {
     "cell_type": "markdown",
     "checksum": "8c4d17aec27f7d414669919da560172d",
     "grade": true,
     "grade_id": "cell-a8b54c2930818a11",
     "locked": false,
     "points": 4,
     "schema_version": 3,
     "solution": true,
     "task": false
    }
   },
   "source": [
    "YOUR ANSWER HERE"
   ]
  },
  {
   "cell_type": "markdown",
   "id": "hungarian-string",
   "metadata": {
    "deletable": false,
    "editable": false,
    "nbgrader": {
     "cell_type": "markdown",
     "checksum": "3c576ac10a2af4ec4feabefe69688383",
     "grade": false,
     "grade_id": "cell-4326587f81b97d2b",
     "locked": true,
     "schema_version": 3,
     "solution": false,
     "task": false
    }
   },
   "source": [
    "# Q2\n",
    "\n",
    "Consider the following code snippet, similar to what we used in the lecture"
   ]
  },
  {
   "cell_type": "markdown",
   "id": "4e199822",
   "metadata": {},
   "source": [
    "conv1D has 3 (kernel)x 50 (input) x 250 weights+ 250 biases to train."
   ]
  },
  {
   "cell_type": "code",
   "execution_count": 9,
   "id": "65076bb0",
   "metadata": {},
   "outputs": [
    {
     "data": {
      "text/plain": [
       "896"
      ]
     },
     "execution_count": 9,
     "metadata": {},
     "output_type": "execute_result"
    }
   ],
   "source": [
    "3*9*32 +32\n",
    "# input * 3x3 kernel * node size + node size"
   ]
  },
  {
   "cell_type": "code",
   "execution_count": 10,
   "id": "44ffde43",
   "metadata": {},
   "outputs": [
    {
     "data": {
      "text/plain": [
       "36992"
      ]
     },
     "execution_count": 10,
     "metadata": {},
     "output_type": "execute_result"
    }
   ],
   "source": [
    "32*9*128 +128"
   ]
  },
  {
   "cell_type": "code",
   "execution_count": 12,
   "id": "86141324",
   "metadata": {},
   "outputs": [
    {
     "data": {
      "text/plain": [
       "4224"
      ]
     },
     "execution_count": 12,
     "metadata": {},
     "output_type": "execute_result"
    }
   ],
   "source": [
    "32*1*128 +128"
   ]
  },
  {
   "cell_type": "code",
   "execution_count": 13,
   "id": "0f352961",
   "metadata": {},
   "outputs": [
    {
     "data": {
      "text/plain": [
       "1180672"
      ]
     },
     "execution_count": 13,
     "metadata": {},
     "output_type": "execute_result"
    }
   ],
   "source": [
    "128*9*1024 +1024"
   ]
  },
  {
   "cell_type": "code",
   "execution_count": null,
   "id": "1ba979d7",
   "metadata": {},
   "outputs": [],
   "source": []
  },
  {
   "cell_type": "code",
   "execution_count": 2,
   "id": "known-finish",
   "metadata": {
    "deletable": false,
    "editable": false,
    "nbgrader": {
     "cell_type": "code",
     "checksum": "ba6e42aeb5a920b66147a44bb965e805",
     "grade": false,
     "grade_id": "cell-3b50ab48105d15bc",
     "locked": true,
     "schema_version": 3,
     "solution": false,
     "task": false
    }
   },
   "outputs": [
    {
     "name": "stdout",
     "output_type": "stream",
     "text": [
      "Model: \"model\"\n",
      "__________________________________________________________________________________________________\n",
      " Layer (type)                   Output Shape         Param #     Connected to                     \n",
      "==================================================================================================\n",
      " input_1 (InputLayer)           [(None, 180, 180, 3  0           []                               \n",
      "                                )]                                                                \n",
      "                                                                                                  \n",
      " conv2d (Conv2D)                (None, 90, 90, 32)   896         ['input_1[0][0]']                \n",
      "                                                                                                  \n",
      " conv2d_1 (Conv2D)              (None, 90, 90, 128)  36992       ['conv2d[0][0]']                 \n",
      "                                                                                                  \n",
      " max_pooling2d (MaxPooling2D)   (None, 45, 45, 128)  0           ['conv2d_1[0][0]']               \n",
      "                                                                                                  \n",
      " conv2d_2 (Conv2D)              (None, 45, 45, 128)  4224        ['conv2d[0][0]']                 \n",
      "                                                                                                  \n",
      " add (Add)                      (None, 45, 45, 128)  0           ['max_pooling2d[0][0]',          \n",
      "                                                                  'conv2d_2[0][0]']               \n",
      "                                                                                                  \n",
      " conv2d_3 (Conv2D)              (None, 45, 45, 1024  1180672     ['add[0][0]']                    \n",
      "                                )                                                                 \n",
      "                                                                                                  \n",
      " global_average_pooling2d (Glob  (None, 1024)        0           ['conv2d_3[0][0]']               \n",
      " alAveragePooling2D)                                                                              \n",
      "                                                                                                  \n",
      " dense (Dense)                  (None, 1)            1025        ['global_average_pooling2d[0][0]'\n",
      "                                                                 ]                                \n",
      "                                                                                                  \n",
      "==================================================================================================\n",
      "Total params: 1,223,809\n",
      "Trainable params: 1,223,809\n",
      "Non-trainable params: 0\n",
      "__________________________________________________________________________________________________\n"
     ]
    },
    {
     "name": "stderr",
     "output_type": "stream",
     "text": [
      "2022-03-11 13:22:44.155497: W tensorflow/stream_executor/platform/default/dso_loader.cc:64] Could not load dynamic library 'libcuda.so.1'; dlerror: libcuda.so.1: cannot open shared object file: No such file or directory; LD_LIBRARY_PATH: /home/amann/local/lib\n",
      "2022-03-11 13:22:44.155525: W tensorflow/stream_executor/cuda/cuda_driver.cc:269] failed call to cuInit: UNKNOWN ERROR (303)\n",
      "2022-03-11 13:22:44.155555: I tensorflow/stream_executor/cuda/cuda_diagnostics.cc:156] kernel driver does not appear to be running on this host (msstf091.ucc.ie): /proc/driver/nvidia/version does not exist\n",
      "2022-03-11 13:22:44.156351: I tensorflow/core/platform/cpu_feature_guard.cc:151] This TensorFlow binary is optimized with oneAPI Deep Neural Network Library (oneDNN) to use the following CPU instructions in performance-critical operations:  AVX2 FMA\n",
      "To enable them in other operations, rebuild TensorFlow with the appropriate compiler flags.\n"
     ]
    }
   ],
   "source": [
    "def make_model(input_shape):\n",
    "    inputs = keras.Input(shape=input_shape)\n",
    "    x = layers.Conv2D(32, 3, strides=2, padding=\"same\", activation=\"relu\")(inputs)\n",
    "\n",
    "    previous_block_activation = x  \n",
    "\n",
    "    x = layers.Conv2D(128, 3, padding=\"same\")(x)\n",
    "\n",
    "    x = layers.MaxPooling2D(3, strides=2, padding=\"same\")(x)\n",
    "\n",
    "    residual = layers.Conv2D(128, 1, strides=2, padding=\"same\")(\n",
    "        previous_block_activation\n",
    "    )\n",
    "    x = layers.add([x, residual])  \n",
    "    previous_block_activation = x  \n",
    "\n",
    "    x = layers.Conv2D(1024, 3, padding=\"same\", activation=\"relu\")(x)\n",
    "\n",
    "    x = layers.GlobalAveragePooling2D()(x)\n",
    "    outputs = layers.Dense(1, activation=\"sigmoid\")(x)\n",
    "    return tf.keras.Model(inputs, outputs)\n",
    "\n",
    "\n",
    "\n",
    "model = make_model(input_shape=(180, 180, 3))\n",
    "model.summary()"
   ]
  },
  {
   "cell_type": "markdown",
   "id": "growing-python",
   "metadata": {},
   "source": [
    "a) Explain this code snippet in detail.  Do not use more than 900 words. (9 points)"
   ]
  },
  {
   "cell_type": "code",
   "execution_count": null,
   "id": "alleged-accounting",
   "metadata": {
    "deletable": false,
    "nbgrader": {
     "cell_type": "code",
     "checksum": "243c76db8687cbe9151a3b721262aaee",
     "grade": true,
     "grade_id": "cell-25f30498c656c23e",
     "locked": false,
     "points": 9,
     "schema_version": 3,
     "solution": true,
     "task": false
    }
   },
   "outputs": [],
   "source": [
    "# YOUR CODE HERE\n",
    "raise NotImplementedError()"
   ]
  },
  {
   "cell_type": "markdown",
   "id": "flexible-literature",
   "metadata": {},
   "source": [
    "b) The line `model.summary()` displays the number of trainable parameters in each layer. Precisely explain those numbers for each layer. Do not use more than 500 words. (5 points)"
   ]
  },
  {
   "cell_type": "code",
   "execution_count": null,
   "id": "authorized-spokesman",
   "metadata": {
    "deletable": false,
    "nbgrader": {
     "cell_type": "code",
     "checksum": "fa7e35764f53372a75fe1ccbee52915f",
     "grade": true,
     "grade_id": "cell-7a4dce7067f8641d",
     "locked": false,
     "points": 5,
     "schema_version": 3,
     "solution": true,
     "task": false
    }
   },
   "outputs": [],
   "source": [
    "# YOUR CODE HERE\n",
    "raise NotImplementedError()"
   ]
  },
  {
   "cell_type": "markdown",
   "id": "listed-dinner",
   "metadata": {},
   "source": [
    "# Q3 Feedforward network\n",
    "\n",
    "a) Write a function `two_layer(x,W1,b1,W2,b2)` which realises an ANN with the following properties:\n",
    "\n",
    "- do not use tensorflow or keras\n",
    "- only use elementary python and numpy\n",
    "- all arguments of `two_layer()` are assumed to be numpy arrays\n",
    "- `x` is the input vector\n",
    "- the first layer is a dense layer with weight matrix `W1`, bias vector `b1` and activation function ReLU. \n",
    "- the second layer is a dense layer with weight matrix `W2`, bias vector `b2` and activation function softmax. \n",
    "- the function returns the output of the softmax layer as a numpy vector. \n",
    "\n",
    "(5 points)"
   ]
  },
  {
   "cell_type": "code",
   "execution_count": null,
   "id": "undefined-sheriff",
   "metadata": {
    "deletable": false,
    "nbgrader": {
     "cell_type": "code",
     "checksum": "31e96d75d516402f6fbaa3573b1d636a",
     "grade": true,
     "grade_id": "cell-a0616c982b9abf63",
     "locked": false,
     "points": 5,
     "schema_version": 3,
     "solution": true,
     "task": false
    }
   },
   "outputs": [],
   "source": [
    "# YOUR CODE HERE\n",
    "raise NotImplementedError()"
   ]
  },
  {
   "cell_type": "markdown",
   "id": "tough-category",
   "metadata": {},
   "source": [
    "b) Write a function `two_layer_tf(x,W1,b1,W2,b2)` with the same properties as in part (a) with the following modifications:\n",
    "- all arguments are assumed to be Tensorflow tensors, and the function also returns a Tensorflow tensor\n",
    "- use tensorflow operations inside your function, however, do not use keras layers or models.\n",
    "\n",
    "(4 points)"
   ]
  },
  {
   "cell_type": "code",
   "execution_count": null,
   "id": "unnecessary-identifier",
   "metadata": {
    "deletable": false,
    "nbgrader": {
     "cell_type": "code",
     "checksum": "3c26c01ed8ca5cc1277027b8e29c0ad8",
     "grade": true,
     "grade_id": "cell-1fb71edb0ceda1c9",
     "locked": false,
     "points": 4,
     "schema_version": 3,
     "solution": true,
     "task": false
    }
   },
   "outputs": [],
   "source": [
    "# YOUR CODE HERE\n",
    "raise NotImplementedError()"
   ]
  },
  {
   "cell_type": "markdown",
   "id": "interesting-hopkins",
   "metadata": {},
   "source": [
    "c) Write a function `two_layer_keras(x,W1,b1,W2,b2)` with the same properties as in part (b) with the following modifications:\n",
    "- use a keras model with appropriate layers inside your function, which performs the required calculations\n",
    "- (all arguments and the return value of the function are still assumed to be Tensorflow tensors)\n",
    "\n",
    "(5 points)"
   ]
  },
  {
   "cell_type": "code",
   "execution_count": null,
   "id": "outstanding-floor",
   "metadata": {
    "deletable": false,
    "nbgrader": {
     "cell_type": "code",
     "checksum": "4e9b936015a6e7251e8835af41206335",
     "grade": true,
     "grade_id": "cell-74067ffeab7a056d",
     "locked": false,
     "points": 5,
     "schema_version": 3,
     "solution": true,
     "task": false
    }
   },
   "outputs": [],
   "source": [
    "# YOUR CODE HERE\n",
    "raise NotImplementedError()"
   ]
  },
  {
   "cell_type": "markdown",
   "id": "precise-stuart",
   "metadata": {},
   "source": [
    "# Q4 Reinforcement learning\n",
    "\n",
    "Choose a video game, board game or other game you are familiar with. Do not use the cartpole game we discussed in the lecture or a trivial game like tic-tac-toe.  Explain the following concepts from reinforcement learning in the context of your game:\n",
    "\n",
    "- What is the state space in your chosen game? \n",
    "- What is the action space space?\n",
    "- What are rewards and returns?\n",
    "- Does your game contain stochastic elements?\n",
    "- What is a policy in the context of your game.\n",
    "- Based on your experience with the game, what would be examples for a good policy and a bad plolicy respectively?\n",
    "- Explain the concept of reinforcement learning in the context of your game.\n",
    "- Explain the concept of Q-learning in the context of your game.\n",
    "- Explain, what information a *replay buffer* contains in the context of your game. \n",
    "\n",
    "Do not use more than 1400 words. (14 points)"
   ]
  },
  {
   "cell_type": "markdown",
   "id": "protective-comparison",
   "metadata": {
    "deletable": false,
    "nbgrader": {
     "cell_type": "markdown",
     "checksum": "d36be230e61c8b91c8aa09e91b7b2278",
     "grade": true,
     "grade_id": "cell-f1bc40b4f5bfaadc",
     "locked": false,
     "points": 14,
     "schema_version": 3,
     "solution": true,
     "task": false
    }
   },
   "source": [
    "YOUR ANSWER HERE"
   ]
  }
 ],
 "metadata": {
  "kernelspec": {
   "display_name": "Python [conda env:tf]",
   "language": "python",
   "name": "conda-env-tf-py"
  },
  "language_info": {
   "codemirror_mode": {
    "name": "ipython",
    "version": 3
   },
   "file_extension": ".py",
   "mimetype": "text/x-python",
   "name": "python",
   "nbconvert_exporter": "python",
   "pygments_lexer": "ipython3",
   "version": "3.9.9"
  }
 },
 "nbformat": 4,
 "nbformat_minor": 5
}
